{
 "cells": [
  {
   "cell_type": "code",
   "execution_count": 232,
   "metadata": {},
   "outputs": [],
   "source": [
    "import pandas as pd\n",
    "import numpy as np\n",
    "import ast\n",
    "import warnings \n",
    "import matplotlib.pyplot as plt\n",
    "import seaborn as sns\n",
    "import gdown \n",
    "import difflib\n",
    "from sklearn.feature_extraction.text import TfidfVectorizer\n",
    "from sklearn.metrics.pairwise import cosine_similarity\n",
    "warnings.filterwarnings(\"ignore\")"
   ]
  },
  {
   "attachments": {},
   "cell_type": "markdown",
   "metadata": {},
   "source": [
    "Lo que voy a buscar en este EDA es encontrar cuales son las condiciones de peliculas que mas influyen en la popularidad. Esto se aplica para reducir el dataset y poder generar un modelo de Machine Learning basado en la popularidad general de las peliculas"
   ]
  },
  {
   "cell_type": "code",
   "execution_count": 233,
   "metadata": {},
   "outputs": [],
   "source": [
    "credits_file_url = \"https://drive.google.com/uc?id=10ESugAZdfsURSVUk2vv7MpyJ_PS2YZIA\"\n",
    "movies_file_url = \"https://drive.google.com/uc?id=1ykRh8AgzSWqecZSBGqMHkUanvRhRiTMD\""
   ]
  },
  {
   "cell_type": "code",
   "execution_count": 234,
   "metadata": {},
   "outputs": [],
   "source": [
    "credits_output_path = \"./Datasets/credits.csv\"\n",
    "movies_output_path = \"./Datasets/movies_dataset.csv\""
   ]
  },
  {
   "cell_type": "code",
   "execution_count": 235,
   "metadata": {},
   "outputs": [
    {
     "name": "stderr",
     "output_type": "stream",
     "text": [
      "Downloading...\n",
      "From (uriginal): https://drive.google.com/uc?id=10ESugAZdfsURSVUk2vv7MpyJ_PS2YZIA\n",
      "From (redirected): https://drive.google.com/uc?id=10ESugAZdfsURSVUk2vv7MpyJ_PS2YZIA&confirm=t&uuid=954025a7-4701-4956-97ad-d3490361ee64\n",
      "To: c:\\Users\\Usuario\\Desktop\\octaprograma\\MLOp\\Datasets\\credits.csv\n",
      "100%|██████████| 190M/190M [00:07<00:00, 25.2MB/s] \n",
      "Downloading...\n",
      "From: https://drive.google.com/uc?id=1ykRh8AgzSWqecZSBGqMHkUanvRhRiTMD\n",
      "To: c:\\Users\\Usuario\\Desktop\\octaprograma\\MLOp\\Datasets\\movies_dataset.csv\n",
      "100%|██████████| 34.4M/34.4M [00:01<00:00, 34.3MB/s]\n"
     ]
    },
    {
     "data": {
      "text/plain": [
       "'./Datasets/movies_dataset.csv'"
      ]
     },
     "execution_count": 235,
     "metadata": {},
     "output_type": "execute_result"
    }
   ],
   "source": [
    "gdown.download(credits_file_url, credits_output_path, quiet=False)\n",
    "gdown.download(movies_file_url, movies_output_path, quiet=False)"
   ]
  },
  {
   "cell_type": "code",
   "execution_count": 236,
   "metadata": {},
   "outputs": [],
   "source": [
    "credits = pd.read_csv(\"./Datasets/credits.csv\")\n",
    "df = pd.read_csv(\"./Datasets/movies_dataset.csv\")"
   ]
  },
  {
   "cell_type": "code",
   "execution_count": 237,
   "metadata": {},
   "outputs": [],
   "source": [
    "df[\"belongs_to_collection\"].fillna(\"None\",inplace=True)"
   ]
  },
  {
   "cell_type": "code",
   "execution_count": 238,
   "metadata": {},
   "outputs": [],
   "source": [
    "def nombre_actores(fila): \n",
    "    try:                  \n",
    "        a = ast.literal_eval(fila[\"cast\"]) \n",
    "        if len(a) == 0: \n",
    "            return None \n",
    "        nombre_actor = [actor.get(\"name\") for actor in a] \n",
    "        return \", \".join(nombre_actor) \n",
    "    except Exception: \n",
    "        return None \n",
    "\n",
    "def nombre_director(fila):\n",
    "    try:\n",
    "        directores = ast.literal_eval(fila[\"crew\"])\n",
    "        directores_nombre = [e[\"name\"] for e in directores if e[\"job\"] == \"Director\"]\n",
    "        return \", \".join(directores_nombre)\n",
    "    except (SyntaxError, ValueError):\n",
    "        return None\n",
    "\n",
    "def colleciones(fila):\n",
    "    try:    \n",
    "        bc = ast.literal_eval(fila[\"belongs_to_collection\"])\n",
    "        collection = bc.get(\"name\")\n",
    "        return collection\n",
    "    except Exception:\n",
    "        return None\n",
    "    \n",
    "def generos(fila): \n",
    "    try:\n",
    "        g = ast.literal_eval(fila[\"genres\"])\n",
    "        if len(g) == 0:\n",
    "            return None \n",
    "        nombre_genero = [genero.get(\"name\") for genero in g]\n",
    "        return \", \".join(nombre_genero)\n",
    "    except Exception:\n",
    "        return None\n",
    "    \n",
    "def idioma(fila): \n",
    "    try:\n",
    "        i = ast.literal_eval(fila[\"spoken_languages\"])\n",
    "        if len(i) == 0:\n",
    "            return None \n",
    "        nombre_idioma = [idioma.get(\"name\") for idioma in i]\n",
    "        return \", \".join(nombre_idioma)\n",
    "    except Exception:\n",
    "        return None\n",
    "    \n",
    "def compania(fila): \n",
    "    try:\n",
    "        c = ast.literal_eval(fila[\"production_companies\"])\n",
    "        if len(c) == 0:\n",
    "            return None \n",
    "        companias = [compania.get(\"name\") for compania in c]\n",
    "        return \", \".join(companias)\n",
    "    except Exception:\n",
    "        return None\n",
    "    \n",
    "def pais_produccion(fila): \n",
    "    try:\n",
    "        pc = ast.literal_eval(fila[\"production_countries\"])\n",
    "        if len(pc) == 0:\n",
    "            return None \n",
    "        paises = [pais.get(\"name\") for pais in pc]\n",
    "        return \", \".join(paises)\n",
    "    except Exception:\n",
    "        return None"
   ]
  },
  {
   "cell_type": "code",
   "execution_count": 239,
   "metadata": {},
   "outputs": [],
   "source": [
    "credits[\"actores\"] = credits.apply(nombre_actores, axis=1)\n",
    "credits[\"director\"] = credits.apply(nombre_director, axis=1)\n",
    "df[\"collecion\"] = df.apply(colleciones, axis=1)\n",
    "df[\"generos\"] = df.apply(generos, axis=1)\n",
    "df[\"idioma\"] = df.apply(idioma, axis=1)\n",
    "df[\"compania_productora\"] = df.apply(compania, axis=1)\n",
    "df[\"pais_produccion\"] = df.apply(pais_produccion, axis=1)"
   ]
  },
  {
   "cell_type": "code",
   "execution_count": 240,
   "metadata": {},
   "outputs": [],
   "source": [
    "credits.drop(columns=\"cast\",inplace=True)\n",
    "credits.drop(columns=\"crew\",inplace=True)\n",
    "df.drop(columns=\"belongs_to_collection\",inplace=True)\n",
    "df.drop(columns=\"genres\",inplace=True)\n",
    "df.drop(columns=\"spoken_languages\",inplace=True)\n",
    "df.drop(columns=\"production_companies\",inplace=True)\n",
    "df.drop(columns=\"production_countries\",inplace=True)"
   ]
  },
  {
   "cell_type": "code",
   "execution_count": 241,
   "metadata": {},
   "outputs": [
    {
     "name": "stdout",
     "output_type": "stream",
     "text": [
      "<class 'pandas.core.frame.DataFrame'>\n",
      "RangeIndex: 45466 entries, 0 to 45465\n",
      "Data columns (total 24 columns):\n",
      " #   Column               Non-Null Count  Dtype  \n",
      "---  ------               --------------  -----  \n",
      " 0   adult                45466 non-null  object \n",
      " 1   budget               45466 non-null  object \n",
      " 2   homepage             7782 non-null   object \n",
      " 3   id                   45466 non-null  object \n",
      " 4   imdb_id              45449 non-null  object \n",
      " 5   original_language    45455 non-null  object \n",
      " 6   original_title       45466 non-null  object \n",
      " 7   overview             44512 non-null  object \n",
      " 8   popularity           45461 non-null  object \n",
      " 9   poster_path          45080 non-null  object \n",
      " 10  release_date         45379 non-null  object \n",
      " 11  revenue              45460 non-null  float64\n",
      " 12  runtime              45203 non-null  float64\n",
      " 13  status               45379 non-null  object \n",
      " 14  tagline              20412 non-null  object \n",
      " 15  title                45460 non-null  object \n",
      " 16  video                45460 non-null  object \n",
      " 17  vote_average         45460 non-null  float64\n",
      " 18  vote_count           45460 non-null  float64\n",
      " 19  collecion            4491 non-null   object \n",
      " 20  generos              43024 non-null  object \n",
      " 21  idioma               41631 non-null  object \n",
      " 22  compania_productora  33585 non-null  object \n",
      " 23  pais_produccion      39178 non-null  object \n",
      "dtypes: float64(4), object(20)\n",
      "memory usage: 8.3+ MB\n",
      "None\n",
      "<class 'pandas.core.frame.DataFrame'>\n",
      "RangeIndex: 45476 entries, 0 to 45475\n",
      "Data columns (total 3 columns):\n",
      " #   Column    Non-Null Count  Dtype \n",
      "---  ------    --------------  ----- \n",
      " 0   id        45476 non-null  int64 \n",
      " 1   actores   43058 non-null  object\n",
      " 2   director  45476 non-null  object\n",
      "dtypes: int64(1), object(2)\n",
      "memory usage: 1.0+ MB\n",
      "None\n"
     ]
    }
   ],
   "source": [
    "print(df.info())\n",
    "print(credits.info())\n"
   ]
  },
  {
   "cell_type": "code",
   "execution_count": 242,
   "metadata": {},
   "outputs": [],
   "source": [
    "df.drop(19730,inplace=True)\n",
    "df.drop(29503,inplace=True)\n",
    "df.drop(35587,inplace=True)"
   ]
  },
  {
   "cell_type": "code",
   "execution_count": 243,
   "metadata": {},
   "outputs": [],
   "source": [
    "df[\"budget\"] = df[\"budget\"].astype(\"Int64\")\n",
    "df[\"id\"] = df[\"id\"].astype(\"Int64\")\n",
    "df[\"popularity\"] = df[\"popularity\"].astype(\"float64\")\n",
    "df[\"vote_average\"] = df[\"vote_average\"].astype(\"float64\")\n",
    "df[\"vote_count\"] = df[\"vote_count\"].astype(\"Int64\")"
   ]
  },
  {
   "cell_type": "code",
   "execution_count": 244,
   "metadata": {},
   "outputs": [
    {
     "name": "stdout",
     "output_type": "stream",
     "text": [
      "<class 'pandas.core.frame.DataFrame'>\n",
      "Index: 45463 entries, 0 to 45465\n",
      "Data columns (total 24 columns):\n",
      " #   Column               Non-Null Count  Dtype  \n",
      "---  ------               --------------  -----  \n",
      " 0   adult                45463 non-null  object \n",
      " 1   budget               45463 non-null  Int64  \n",
      " 2   homepage             7779 non-null   object \n",
      " 3   id                   45463 non-null  Int64  \n",
      " 4   imdb_id              45446 non-null  object \n",
      " 5   original_language    45452 non-null  object \n",
      " 6   original_title       45463 non-null  object \n",
      " 7   overview             44509 non-null  object \n",
      " 8   popularity           45460 non-null  float64\n",
      " 9   poster_path          45077 non-null  object \n",
      " 10  release_date         45376 non-null  object \n",
      " 11  revenue              45460 non-null  float64\n",
      " 12  runtime              45203 non-null  float64\n",
      " 13  status               45379 non-null  object \n",
      " 14  tagline              20412 non-null  object \n",
      " 15  title                45460 non-null  object \n",
      " 16  video                45460 non-null  object \n",
      " 17  vote_average         45460 non-null  float64\n",
      " 18  vote_count           45460 non-null  Int64  \n",
      " 19  collecion            4491 non-null   object \n",
      " 20  generos              43021 non-null  object \n",
      " 21  idioma               41631 non-null  object \n",
      " 22  compania_productora  33585 non-null  object \n",
      " 23  pais_produccion      39178 non-null  object \n",
      "dtypes: Int64(3), float64(4), object(17)\n",
      "memory usage: 8.8+ MB\n"
     ]
    }
   ],
   "source": [
    "df.info()"
   ]
  },
  {
   "cell_type": "code",
   "execution_count": 245,
   "metadata": {},
   "outputs": [],
   "source": [
    "df[\"popularity\"].fillna(df[\"popularity\"].mean(),inplace=True)\n",
    "df[\"revenue\"].fillna(df[\"revenue\"].mean(),inplace=True)\n",
    "df[\"runtime\"].fillna(df[\"runtime\"].mean(),inplace=True)\n",
    "df[\"vote_average\"].fillna(df[\"vote_average\"].mean(),inplace=True)\n",
    "df[\"vote_count\"].fillna(df[\"vote_count\"].mode(),inplace=True)"
   ]
  },
  {
   "cell_type": "code",
   "execution_count": 246,
   "metadata": {},
   "outputs": [],
   "source": [
    "df[\"release_date\"] = pd.to_datetime(df[\"release_date\"],format=\"%Y-%m-%d\",errors=\"coerce\")"
   ]
  },
  {
   "cell_type": "code",
   "execution_count": 247,
   "metadata": {},
   "outputs": [],
   "source": [
    "df.drop(columns=[\"adult\",\"homepage\",\"imdb_id\",\"original_language\",\"original_title\",\"poster_path\",\"status\"],inplace=True)"
   ]
  },
  {
   "cell_type": "code",
   "execution_count": 248,
   "metadata": {},
   "outputs": [],
   "source": [
    "df = df.join(credits.set_index('id'), on='id')\n",
    "df.reset_index(inplace=True)\n",
    "df.drop(columns=\"index\",inplace=True)"
   ]
  },
  {
   "cell_type": "code",
   "execution_count": 249,
   "metadata": {},
   "outputs": [
    {
     "name": "stdout",
     "output_type": "stream",
     "text": [
      "<class 'pandas.core.frame.DataFrame'>\n",
      "RangeIndex: 45539 entries, 0 to 45538\n",
      "Data columns (total 19 columns):\n",
      " #   Column               Non-Null Count  Dtype         \n",
      "---  ------               --------------  -----         \n",
      " 0   budget               45539 non-null  Int64         \n",
      " 1   id                   45539 non-null  Int64         \n",
      " 2   overview             44585 non-null  object        \n",
      " 3   popularity           45539 non-null  float64       \n",
      " 4   release_date         45452 non-null  datetime64[ns]\n",
      " 5   revenue              45539 non-null  float64       \n",
      " 6   runtime              45539 non-null  float64       \n",
      " 7   tagline              20439 non-null  object        \n",
      " 8   title                45536 non-null  object        \n",
      " 9   video                45536 non-null  object        \n",
      " 10  vote_average         45539 non-null  float64       \n",
      " 11  vote_count           45536 non-null  Int64         \n",
      " 12  collecion            4500 non-null   object        \n",
      " 13  generos              43096 non-null  object        \n",
      " 14  idioma               41700 non-null  object        \n",
      " 15  compania_productora  33639 non-null  object        \n",
      " 16  pais_produccion      39245 non-null  object        \n",
      " 17  actores              43118 non-null  object        \n",
      " 18  director             45538 non-null  object        \n",
      "dtypes: Int64(3), datetime64[ns](1), float64(4), object(11)\n",
      "memory usage: 6.7+ MB\n"
     ]
    }
   ],
   "source": [
    "df.info()"
   ]
  },
  {
   "cell_type": "code",
   "execution_count": 250,
   "metadata": {},
   "outputs": [
    {
     "data": {
      "text/plain": [
       "<seaborn.axisgrid.PairGrid at 0x2438a338e90>"
      ]
     },
     "execution_count": 250,
     "metadata": {},
     "output_type": "execute_result"
    },
    {
     "data": {
      "image/png": "[encoded data removed]",
      "text/plain": [
       "<Figure size 500x500 with 1 Axes>"
      ]
     },
     "metadata": {},
     "output_type": "display_data"
    }
   ],
   "source": [
    "sns.pairplot(data=df,x_vars=\"budget\",y_vars=\"popularity\",size=5)"
   ]
  },
  {
   "cell_type": "code",
   "execution_count": 251,
   "metadata": {},
   "outputs": [
    {
     "data": {
      "text/plain": [
       "<seaborn.axisgrid.PairGrid at 0x243743ca750>"
      ]
     },
     "execution_count": 251,
     "metadata": {},
     "output_type": "execute_result"
    },
    {
     "data": {
      "image/png": "[encoded data removed]",
      "text/plain": [
       "<Figure size 500x500 with 1 Axes>"
      ]
     },
     "metadata": {},
     "output_type": "display_data"
    }
   ],
   "source": [
    "sns.pairplot(data=df,x_vars=\"release_date\",y_vars=\"popularity\",size=5)"
   ]
  },
  {
   "cell_type": "code",
   "execution_count": 252,
   "metadata": {},
   "outputs": [
    {
     "data": {
      "text/plain": [
       "<seaborn.axisgrid.PairGrid at 0x243a17c9c10>"
      ]
     },
     "execution_count": 252,
     "metadata": {},
     "output_type": "execute_result"
    },
    {
     "data": {
      "image/png": "[encoded data removed]",
      "text/plain": [
       "<Figure size 500x500 with 1 Axes>"
      ]
     },
     "metadata": {},
     "output_type": "display_data"
    }
   ],
   "source": [
    "sns.pairplot(data=df,x_vars=\"runtime\",y_vars=\"popularity\",size=5)"
   ]
  },
  {
   "cell_type": "code",
   "execution_count": 253,
   "metadata": {},
   "outputs": [
    {
     "name": "stdout",
     "output_type": "stream",
     "text": [
      "<class 'pandas.core.frame.DataFrame'>\n",
      "RangeIndex: 45539 entries, 0 to 45538\n",
      "Data columns (total 19 columns):\n",
      " #   Column               Non-Null Count  Dtype         \n",
      "---  ------               --------------  -----         \n",
      " 0   budget               45539 non-null  Int64         \n",
      " 1   id                   45539 non-null  Int64         \n",
      " 2   overview             44585 non-null  object        \n",
      " 3   popularity           45539 non-null  float64       \n",
      " 4   release_date         45452 non-null  datetime64[ns]\n",
      " 5   revenue              45539 non-null  float64       \n",
      " 6   runtime              45539 non-null  float64       \n",
      " 7   tagline              20439 non-null  object        \n",
      " 8   title                45536 non-null  object        \n",
      " 9   video                45536 non-null  object        \n",
      " 10  vote_average         45539 non-null  float64       \n",
      " 11  vote_count           45536 non-null  Int64         \n",
      " 12  collecion            4500 non-null   object        \n",
      " 13  generos              43096 non-null  object        \n",
      " 14  idioma               41700 non-null  object        \n",
      " 15  compania_productora  33639 non-null  object        \n",
      " 16  pais_produccion      39245 non-null  object        \n",
      " 17  actores              43118 non-null  object        \n",
      " 18  director             45538 non-null  object        \n",
      "dtypes: Int64(3), datetime64[ns](1), float64(4), object(11)\n",
      "memory usage: 6.7+ MB\n"
     ]
    }
   ],
   "source": [
    "df.info()"
   ]
  },
  {
   "cell_type": "code",
   "execution_count": 254,
   "metadata": {},
   "outputs": [],
   "source": [
    "corrdf = df[[\"budget\",\"popularity\",\"revenue\",\"runtime\",\"vote_average\",\"vote_count\",\"release_date\"]]"
   ]
  },
  {
   "cell_type": "code",
   "execution_count": 255,
   "metadata": {},
   "outputs": [
    {
     "data": {
      "text/plain": [
       "budget          0.449585\n",
       "popularity      1.000000\n",
       "revenue         0.506088\n",
       "runtime         0.129872\n",
       "vote_average    0.154454\n",
       "vote_count      0.559886\n",
       "release_date    0.124281\n",
       "Name: popularity, dtype: float64"
      ]
     },
     "execution_count": 255,
     "metadata": {},
     "output_type": "execute_result"
    }
   ],
   "source": [
    "corrdf.corr()[\"popularity\"]"
   ]
  },
  {
   "cell_type": "code",
   "execution_count": 256,
   "metadata": {},
   "outputs": [
    {
     "name": "stdout",
     "output_type": "stream",
     "text": [
      "<class 'pandas.core.frame.DataFrame'>\n",
      "RangeIndex: 45539 entries, 0 to 45538\n",
      "Data columns (total 19 columns):\n",
      " #   Column               Non-Null Count  Dtype         \n",
      "---  ------               --------------  -----         \n",
      " 0   budget               45539 non-null  Int64         \n",
      " 1   id                   45539 non-null  Int64         \n",
      " 2   overview             44585 non-null  object        \n",
      " 3   popularity           45539 non-null  float64       \n",
      " 4   release_date         45452 non-null  datetime64[ns]\n",
      " 5   revenue              45539 non-null  float64       \n",
      " 6   runtime              45539 non-null  float64       \n",
      " 7   tagline              20439 non-null  object        \n",
      " 8   title                45536 non-null  object        \n",
      " 9   video                45536 non-null  object        \n",
      " 10  vote_average         45539 non-null  float64       \n",
      " 11  vote_count           45536 non-null  Int64         \n",
      " 12  collecion            4500 non-null   object        \n",
      " 13  generos              43096 non-null  object        \n",
      " 14  idioma               41700 non-null  object        \n",
      " 15  compania_productora  33639 non-null  object        \n",
      " 16  pais_produccion      39245 non-null  object        \n",
      " 17  actores              43118 non-null  object        \n",
      " 18  director             45538 non-null  object        \n",
      "dtypes: Int64(3), datetime64[ns](1), float64(4), object(11)\n",
      "memory usage: 6.7+ MB\n"
     ]
    }
   ],
   "source": [
    "df.info()"
   ]
  },
  {
   "cell_type": "code",
   "execution_count": 257,
   "metadata": {},
   "outputs": [],
   "source": [
    "df_ML = df[[\"title\",\"generos\",\"idioma\",\"actores\",\"overview\",\"vote_count\",\"popularity\",\"runtime\",\"release_date\"]]"
   ]
  },
  {
   "cell_type": "code",
   "execution_count": 258,
   "metadata": {},
   "outputs": [],
   "source": [
    "df_ML = df_ML[df_ML[\"release_date\"].dt.year>1980]"
   ]
  },
  {
   "cell_type": "code",
   "execution_count": 259,
   "metadata": {},
   "outputs": [],
   "source": [
    "df_ML = df_ML[(df_ML[\"runtime\"] <= 350) & (df_ML[\"runtime\"] >= 30)]"
   ]
  },
  {
   "cell_type": "code",
   "execution_count": 260,
   "metadata": {},
   "outputs": [],
   "source": [
    "df_ML = df_ML.sort_values(by=\"popularity\",ascending=False)"
   ]
  },
  {
   "cell_type": "code",
   "execution_count": 261,
   "metadata": {},
   "outputs": [],
   "source": [
    "df_ML = df_ML.head(4000)"
   ]
  },
  {
   "cell_type": "code",
   "execution_count": 262,
   "metadata": {},
   "outputs": [],
   "source": [
    "df_ML.fillna(\"\",inplace=True)"
   ]
  },
  {
   "cell_type": "code",
   "execution_count": 263,
   "metadata": {},
   "outputs": [],
   "source": [
    "df_ML.reset_index(inplace=True)"
   ]
  },
  {
   "cell_type": "code",
   "execution_count": 264,
   "metadata": {},
   "outputs": [],
   "source": [
    "df_ML.drop(columns=\"index\",inplace=True)"
   ]
  },
  {
   "cell_type": "code",
   "execution_count": 265,
   "metadata": {},
   "outputs": [],
   "source": [
    "columnas_combinadas = df_ML[\"title\"] + df_ML[\"generos\"] + df_ML[\"actores\"] + df_ML[\"overview\"]"
   ]
  },
  {
   "cell_type": "code",
   "execution_count": 266,
   "metadata": {},
   "outputs": [],
   "source": [
    "vec = TfidfVectorizer()"
   ]
  },
  {
   "cell_type": "code",
   "execution_count": 267,
   "metadata": {},
   "outputs": [],
   "source": [
    "vector_columnas = vec.fit_transform(columnas_combinadas)"
   ]
  },
  {
   "cell_type": "code",
   "execution_count": 268,
   "metadata": {},
   "outputs": [
    {
     "data": {
      "text/plain": [
       "<4000x59869 sparse matrix of type '<class 'numpy.float64'>'\n",
       "\twith 365342 stored elements in Compressed Sparse Row format>"
      ]
     },
     "execution_count": 268,
     "metadata": {},
     "output_type": "execute_result"
    }
   ],
   "source": [
    "vector_columnas"
   ]
  },
  {
   "cell_type": "code",
   "execution_count": 269,
   "metadata": {},
   "outputs": [],
   "source": [
    "simil = cosine_similarity(vector_columnas)"
   ]
  },
  {
   "cell_type": "code",
   "execution_count": 270,
   "metadata": {},
   "outputs": [],
   "source": [
    "todas_peliculas = df_ML[\"title\"].tolist()"
   ]
  },
  {
   "cell_type": "code",
   "execution_count": 271,
   "metadata": {},
   "outputs": [],
   "source": [
    "encontrar_pelicula = difflib.get_close_matches(\"Iron Man\",todas_peliculas) "
   ]
  },
  {
   "cell_type": "code",
   "execution_count": 272,
   "metadata": {},
   "outputs": [],
   "source": [
    "pelicula_encontrada = encontrar_pelicula[0]"
   ]
  },
  {
   "cell_type": "code",
   "execution_count": 273,
   "metadata": {},
   "outputs": [],
   "source": [
    "indice_pelicula = df_ML[df_ML.title == pelicula_encontrada].index.values[0]"
   ]
  },
  {
   "cell_type": "code",
   "execution_count": 274,
   "metadata": {},
   "outputs": [],
   "source": [
    "peliculas_similares = list(enumerate(simil[indice_pelicula]))"
   ]
  },
  {
   "cell_type": "code",
   "execution_count": 275,
   "metadata": {},
   "outputs": [],
   "source": [
    "ordenar_peliculas_similares = sorted(peliculas_similares,key = lambda x:x[1],reverse=True)"
   ]
  },
  {
   "cell_type": "code",
   "execution_count": 276,
   "metadata": {},
   "outputs": [
    {
     "name": "stdout",
     "output_type": "stream",
     "text": [
      "['Iron Man', 'Iron Man 2', 'Iron Man 3', \"You Don't Mess with the Zohan\", 'The Avengers', 'The Insider']\n"
     ]
    }
   ],
   "source": [
    "i = 1\n",
    "recomendaciones = []\n",
    "for movie in ordenar_peliculas_similares[:6]:\n",
    "    index = movie[0]\n",
    "    pelicula_por_indice = df_ML[df_ML.index==index][\"title\"].values[0]\n",
    "    if (i<7):\n",
    "        recomendaciones.append(pelicula_por_indice)\n",
    "        i+=1\n",
    "        \n",
    "print(recomendaciones)"
   ]
  },
  {
   "cell_type": "code",
   "execution_count": 277,
   "metadata": {},
   "outputs": [],
   "source": [
    "df_ML.to_csv(\"./Datasets/MachineLearning.csv\")"
   ]
  }
 ],
 "metadata": {
  "kernelspec": {
   "display_name": "Python 3",
   "language": "python",
   "name": "python3"
  },
  "language_info": {
   "codemirror_mode": {
    "name": "ipython",
    "version": 3
   },
   "file_extension": ".py",
   "mimetype": "text/x-python",
   "name": "python",
   "nbconvert_exporter": "python",
   "pygments_lexer": "ipython3",
   "version": "3.11.3"
  },
  "orig_nbformat": 4
 },
 "nbformat": 4,
 "nbformat_minor": 2
}
